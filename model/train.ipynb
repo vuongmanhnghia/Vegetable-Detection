{
 "cells": [
  {
   "cell_type": "code",
   "execution_count": null,
   "metadata": {},
   "outputs": [],
   "source": [
    "%pip install -r requirements.txt"
   ]
  },
  {
   "cell_type": "code",
   "execution_count": 16,
   "metadata": {},
   "outputs": [
    {
     "data": {
      "text/plain": [
       "False"
      ]
     },
     "execution_count": 16,
     "metadata": {},
     "output_type": "execute_result"
    }
   ],
   "source": [
    "import torch\n",
    "torch.cuda.is_available()"
   ]
  },
  {
   "cell_type": "code",
   "execution_count": null,
   "metadata": {},
   "outputs": [],
   "source": [
    "from dotenv import load_dotenv\n",
    "import os\n",
    "load_dotenv()\n",
    "\n",
    "WORKSPACE = os.getenv(\"WORKSPACE\")\n",
    "PROJECT= os.getenv(\"PROJECT\")\n",
    "PROJECT_VERSION = os.getenv(\"PROJECT_VERSION\")\n",
    "ROBOFLOW_API_KEY = os.getenv(\"ROBOFLOW_API_KEY\")\n",
    "YOLO_VERSION = os.getenv(\"YOLO_VERSION\")\n",
    "\n",
    "from roboflow import Roboflow\n",
    "\n",
    "rf = Roboflow(api_key=ROBOFLOW_API_KEY)\n",
    "\n",
    "\n",
    "project = rf.workspace(WORKSPACE).project(PROJECT)\n",
    "dataset = project.version(PROJECT_VERSION).download(YOLO_VERSION)"
   ]
  },
  {
   "cell_type": "code",
   "execution_count": null,
   "metadata": {},
   "outputs": [],
   "source": [
    "from dotenv import load_dotenv\n",
    "import os\n",
    "\n",
    "load_dotenv()\n",
    "\n",
    "from ultralytics import YOLO\n",
    "YOLO_MODEL = os.getenv(\"YOLO_MODEL\")\n",
    "PROJECT = os.getenv(\"PROJECT\")\n",
    "PROJECT_VERSION = os.getenv(\"PROJECT_VERSION\")\n",
    "EPOCHS = os.getenv(\"EPOCHS\")\n",
    "PATIENCE = os.getenv(\"PATIENCE\")\n",
    "\n",
    "# Initialize model\n",
    "model = YOLO(YOLO_MODEL)  # Using pre-trained model\n",
    "\n",
    "# Train the model\n",
    "model.train(\n",
    "    data=f\"./{PROJECT}-{PROJECT_VERSION}/data.yaml\",  # Path to data.yaml file\n",
    "    epochs=int(EPOCHS),  \n",
    "    patience=int(PATIENCE), \n",
    ")"
   ]
  },
  {
   "cell_type": "code",
   "execution_count": null,
   "metadata": {},
   "outputs": [],
   "source": [
    "from dotenv import load_dotenv\n",
    "import os\n",
    "\n",
    "load_dotenv()\n",
    "\n",
    "from ultralytics import YOLO\n",
    "\n",
    "YOLO_MODEL = os.getenv(\"YOLO_MODEL\")\n",
    "PROJECT = os.getenv(\"PROJECT\")\n",
    "PROJECT_VERSION = os.getenv(\"PROJECT_VERSION\")\n",
    "EPOCHS = os.getenv(\"EPOCHS\")\n",
    "PATIENCE = os.getenv(\"PATIENCE\")\n",
    "DATA_DIR = os.getenv(\"DATA_DIR\")\n",
    "SAVE_DIR = os.getenv(\"SAVE_DIR\")\n",
    "\n",
    "\n",
    "# Initialize model\n",
    "model = YOLO(YOLO_MODEL)  # Using pre-trained model\n",
    "\n",
    "save_dir = os.path.join(SAVE_DIR, PROJECT)\n",
    "\n",
    "# Train the model\n",
    "model.train(\n",
    "    data=DATA_DIR,  # Path to data.yaml file\n",
    "    epochs=EPOCHS,\n",
    "    project=save_dir,\n",
    "    patience=int(PATIENCE),\n",
    ")"
   ]
  }
 ],
 "metadata": {
  "kernelspec": {
   "display_name": "venv",
   "language": "python",
   "name": "python3"
  },
  "language_info": {
   "codemirror_mode": {
    "name": "ipython",
    "version": 3
   },
   "file_extension": ".py",
   "mimetype": "text/x-python",
   "name": "python",
   "nbconvert_exporter": "python",
   "pygments_lexer": "ipython3",
   "version": "3.13.1"
  }
 },
 "nbformat": 4,
 "nbformat_minor": 2
}
