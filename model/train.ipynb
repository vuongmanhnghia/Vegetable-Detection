{
 "cells": [
  {
   "cell_type": "code",
   "execution_count": 1,
   "metadata": {},
   "outputs": [
    {
     "data": {
      "text/plain": [
       "True"
      ]
     },
     "execution_count": 1,
     "metadata": {},
     "output_type": "execute_result"
    }
   ],
   "source": [
    "import torch\n",
    "torch.cuda.is_available()"
   ]
  },
  {
   "cell_type": "code",
   "execution_count": 4,
   "metadata": {},
   "outputs": [
    {
     "name": "stdout",
     "output_type": "stream",
     "text": [
      "loading Roboflow workspace...\n",
      "loading Roboflow project...\n"
     ]
    },
    {
     "name": "stderr",
     "output_type": "stream",
     "text": [
      "Downloading Dataset Version Zip in vegetable-detection-tool-4 to yolov8:: 100%|██████████| 44058/44058 [00:04<00:00, 10734.83it/s]\n"
     ]
    },
    {
     "name": "stdout",
     "output_type": "stream",
     "text": [
      "\n"
     ]
    },
    {
     "name": "stderr",
     "output_type": "stream",
     "text": [
      "Extracting Dataset Version Zip to vegetable-detection-tool-4 in yolov8:: 100%|██████████| 2002/2002 [00:00<00:00, 2865.31it/s]\n"
     ]
    }
   ],
   "source": [
    "from dotenv import load_dotenv\n",
    "import os\n",
    "load_dotenv()\n",
    "\n",
    "WORKSPACE = os.getenv(\"WORKSPACE\")\n",
    "PROJECT= os.getenv(\"PROJECT\")\n",
    "PROJECT_VERSION = os.getenv(\"PROJECT_VERSION\")\n",
    "ROBOFLOW_API_KEY = os.getenv(\"ROBOFLOW_API_KEY\")\n",
    "YOLO_VERSION = os.getenv(\"YOLO_VERSION\")\n",
    "\n",
    "from roboflow import Roboflow\n",
    "\n",
    "rf = Roboflow(api_key=ROBOFLOW_API_KEY)\n",
    "\n",
    "\n",
    "project = rf.workspace(WORKSPACE).project(PROJECT)\n",
    "dataset = project.version(4).download(YOLO_VERSION)"
   ]
  },
  {
   "cell_type": "code",
   "execution_count": null,
   "metadata": {},
   "outputs": [],
   "source": [
    "from dotenv import load_dotenv\n",
    "import os\n",
    "\n",
    "load_dotenv()\n",
    "\n",
    "from ultralytics import YOLO\n",
    "\n",
    "YOLO_MODEL = os.getenv(\"YOLO_MODEL\")\n",
    "PROJECT = os.getenv(\"PROJECT\")\n",
    "PROJECT_VERSION = os.getenv(\"PROJECT_VERSION\")\n",
    "EPOCHS = os.getenv(\"EPOCHS\")\n",
    "PATIENCE = os.getenv(\"PATIENCE\")\n",
    "DATA_DIR = os.getenv(\"DATA_DIR\")\n",
    "SAVE_DIR = os.getenv(\"SAVE_DIR\")\n",
    "\n",
    "\n",
    "# Initialize model\n",
    "model = YOLO(YOLO_MODEL)  # Using pre-trained model\n",
    "\n",
    "save_dir = os.path.join(SAVE_DIR, PROJECT)\n",
    "\n",
    "# Train the model\n",
    "model.train(\n",
    "    data=DATA_DIR,  # Path to data.yaml file\n",
    "    epochs=int(EPOCHS),\n",
    "    project=save_dir,\n",
    "    patience=int(PATIENCE),\n",
    ")"
   ]
  }
 ],
 "metadata": {
  "kernelspec": {
   "display_name": "venv",
   "language": "python",
   "name": "python3"
  },
  "language_info": {
   "codemirror_mode": {
    "name": "ipython",
    "version": 3
   },
   "file_extension": ".py",
   "mimetype": "text/x-python",
   "name": "python",
   "nbconvert_exporter": "python",
   "pygments_lexer": "ipython3",
   "version": "3.13.1"
  }
 },
 "nbformat": 4,
 "nbformat_minor": 2
}
